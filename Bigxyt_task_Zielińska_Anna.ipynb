{
 "cells": [
  {
   "cell_type": "markdown",
   "metadata": {},
   "source": [
    "On stock exchange trading is realised by placing buy and sell orders with given price and quantity. Those orders can be added and/or removed. \n",
    "\n",
    "Having the following orders:\n",
    "\n",
    "| Id  | Order | Type   | Price | Quantity |\n",
    "|-----|-------|--------|-------|----------|\n",
    "| 001 | Buy   | Add    | 20.00 | 100      |\n",
    "| 002 | Sell  | Add    | 25.00 | 200      |\n",
    "| 003 | Buy   | Add    | 23.00 | 50       |\n",
    "| 004 | Buy   | Add    | 23.00 | 70       |\n",
    "| 003 | Buy   | Remove | 23.00 | 50       |\n",
    "| 005 | Sell  | Add    | 28.00 | 100      |\n",
    "\n",
    "\n",
    "1. Create a data structure that stores orders\n",
    "2. Impelement Add and Remove operations\n",
    "3. After placing an individual order, display buy/sell orders with best price"
   ]
  },
  {
   "cell_type": "markdown",
   "metadata": {},
   "source": [
    "# Basic version"
   ]
  },
  {
   "cell_type": "code",
   "execution_count": 1,
   "metadata": {},
   "outputs": [],
   "source": [
    "# create dictionary to store orders, key = Id, values: order, price, quantity\n",
    "orders = {}"
   ]
  },
  {
   "cell_type": "code",
   "execution_count": 2,
   "metadata": {},
   "outputs": [],
   "source": [
    "# create functions to impelemnt operations\n",
    "\n",
    "def add_order(order_id, order_type, price, quantity):\n",
    "    try:\n",
    "        key = (order_id, order_type)\n",
    "        orders[key] = {\n",
    "            \"price\": price,\n",
    "            \"quantity\": quantity }\n",
    "        display_best_orders()\n",
    "    except Exception as e:\n",
    "        print(f\"Error while adding order: {e}\")\n",
    "    \n",
    "def remove_order(order_id, order_type, price, quantity):\n",
    "    try:\n",
    "        key = (order_id, order_type)\n",
    "        if key in orders:\n",
    "            del orders[key]\n",
    "        display_best_orders()\n",
    "    except Exception as e:\n",
    "        print(f\"Error while removing order: {e}\")\n",
    "\n",
    "def display_best_orders():\n",
    "    try:\n",
    "        buy_orders = [order for key, order in orders.items() if key[1] == \"Buy\"]\n",
    "        sell_orders = [order for key, order in orders.items() if key[1] == 'Sell']\n",
    "\n",
    "        best_buy = min(buy_orders, key = lambda x: x['price'], default = None)\n",
    "        best_sell = max(sell_orders, key = lambda x: x['price'], default = None )\n",
    "\n",
    "        print(\"Best Buy Order:\", best_buy) \n",
    "        print(\"Best Sell Order:\", best_sell)\n",
    "    except Exception as e:\n",
    "        print(f\"Error while displaying best orders: {e}\")"
   ]
  },
  {
   "cell_type": "markdown",
   "metadata": {},
   "source": [
    "Executing orders"
   ]
  },
  {
   "cell_type": "code",
   "execution_count": 3,
   "metadata": {},
   "outputs": [
    {
     "name": "stdout",
     "output_type": "stream",
     "text": [
      "Best Buy Order: {'price': 20.0, 'quantity': 100}\n",
      "Best Sell Order: None\n"
     ]
    }
   ],
   "source": [
    "add_order('001', 'Buy', 20.00, 100)"
   ]
  },
  {
   "cell_type": "code",
   "execution_count": 4,
   "metadata": {},
   "outputs": [
    {
     "name": "stdout",
     "output_type": "stream",
     "text": [
      "Best Buy Order: {'price': 20.0, 'quantity': 100}\n",
      "Best Sell Order: {'price': 25.0, 'quantity': 200}\n"
     ]
    }
   ],
   "source": [
    "add_order('002', 'Sell', 25.00, 200)"
   ]
  },
  {
   "cell_type": "code",
   "execution_count": 5,
   "metadata": {},
   "outputs": [
    {
     "name": "stdout",
     "output_type": "stream",
     "text": [
      "Best Buy Order: {'price': 20.0, 'quantity': 100}\n",
      "Best Sell Order: {'price': 25.0, 'quantity': 200}\n"
     ]
    }
   ],
   "source": [
    "add_order('003', 'Buy', 23.00, 50)"
   ]
  },
  {
   "cell_type": "code",
   "execution_count": 6,
   "metadata": {},
   "outputs": [
    {
     "name": "stdout",
     "output_type": "stream",
     "text": [
      "Best Buy Order: {'price': 20.0, 'quantity': 100}\n",
      "Best Sell Order: {'price': 25.0, 'quantity': 200}\n"
     ]
    }
   ],
   "source": [
    "add_order('004', 'Buy', 23.00, 70)"
   ]
  },
  {
   "cell_type": "code",
   "execution_count": 7,
   "metadata": {},
   "outputs": [
    {
     "name": "stdout",
     "output_type": "stream",
     "text": [
      "Best Buy Order: {'price': 20.0, 'quantity': 100}\n",
      "Best Sell Order: {'price': 25.0, 'quantity': 200}\n"
     ]
    }
   ],
   "source": [
    "remove_order('003', 'Buy', 23.00, 50)"
   ]
  },
  {
   "cell_type": "code",
   "execution_count": 8,
   "metadata": {},
   "outputs": [
    {
     "name": "stdout",
     "output_type": "stream",
     "text": [
      "Best Buy Order: {'price': 20.0, 'quantity': 100}\n",
      "Best Sell Order: {'price': 28.0, 'quantity': 100}\n"
     ]
    }
   ],
   "source": [
    "add_order('005', 'Sell', 28.00, 100)"
   ]
  },
  {
   "cell_type": "markdown",
   "metadata": {},
   "source": [
    "This is the basic implementation of the solution to the recruitment task. However, one may be tempted to expand it."
   ]
  },
  {
   "cell_type": "markdown",
   "metadata": {},
   "source": [
    "# Expanded version"
   ]
  },
  {
   "cell_type": "markdown",
   "metadata": {},
   "source": [
    "Let's assume that the orders are stored in a pre-made PostgreSQL database that we have access to, and that the operations performed in Python affect this table.\n",
    "This is how we could implement better solution:"
   ]
  },
  {
   "cell_type": "code",
   "execution_count": 9,
   "metadata": {},
   "outputs": [],
   "source": [
    "# relevant imports\n",
    "import psycopg2\n",
    "from psycopg2 import OperationalError, DatabaseError\n",
    "\n",
    "# create the connection with database\n",
    "def connect_db(dbname, user, password, host, port):\n",
    "    try:\n",
    "        conn = psycopg2.connect(\n",
    "            dbname=dbname, \n",
    "            user=user, \n",
    "            password=password, \n",
    "            host=host, \n",
    "            port=port  # make sure to use integer\n",
    "        )\n",
    "        print(\"Connected to the database successfully.\")\n",
    "        return conn\n",
    "    \n",
    "    except OperationalError as e:\n",
    "        print(\"Failed to cennect to the database:\", e)\n",
    "        return None"
   ]
  },
  {
   "cell_type": "code",
   "execution_count": 10,
   "metadata": {},
   "outputs": [],
   "source": [
    "# create functions\n",
    "def add_order_db(conn, order_id, order_type, price, quantity):\n",
    "    try:\n",
    "        with conn.cursor() as cur: \n",
    "            cur.execute(\"\"\" INSERT INTO orders (id, order, price, quantity) VALUES (%s, %s, %s, %s) \"\"\", \n",
    "                        (order_id, order_type, price, quantity)) \n",
    "            conn.commit()\n",
    "\n",
    "            display_best_orders_db(conn)\n",
    "    except (OperationalError, DatabaseError, AttributeError) as e:\n",
    "        print(f\"Error while adding order: {e}\")\n",
    "        conn.rollback()\n",
    "\n",
    "def remove_order_db(conn, order_id, order_type):\n",
    "    try:\n",
    "        with conn.cursor() as cur: \n",
    "            cur.execute(\"\"\" DELETE FROM orders WHERE id = %s AND order = %s \"\"\", (order_id, order_type)) \n",
    "            conn.commit()\n",
    "\n",
    "            display_best_orders_db(conn)\n",
    "    except (OperationalError, DatabaseError, AttributeError) as e:\n",
    "        print(f\"Error while removing order: {e}\")\n",
    "        conn.rollback()\n",
    "\n",
    "def display_best_orders_db(conn): \n",
    "    try:\n",
    "        with conn.cursor() as cur: \n",
    "            # import buy orders\n",
    "            cur.execute(\"\"\" SELECT * FROM orders WHERE order = 'Buy' ORDER BY price ASC LIMIT 1 \"\"\")\n",
    "            best_buy = cur.fetchone() \n",
    "\n",
    "            # import sell orders\n",
    "            cur.execute(\"\"\" SELECT * FROM orders WHERE order = 'Sell' ORDER BY price DESC LIMIT 1 \"\"\") \n",
    "            best_sell = cur.fetchone() \n",
    "\n",
    "            print(\"Best Buy Order:\", best_buy) \n",
    "            print(\"Best Sell Order:\", best_sell)\n",
    "    except (OperationalError, DatabaseError, AttributeError) as e: \n",
    "        print(f\"Error while displaying best orders: {e}\")"
   ]
  },
  {
   "cell_type": "markdown",
   "metadata": {},
   "source": [
    "Exceuting orders"
   ]
  },
  {
   "cell_type": "code",
   "execution_count": 11,
   "metadata": {},
   "outputs": [
    {
     "name": "stdout",
     "output_type": "stream",
     "text": [
      "Failed to cennect to the database: invalid integer value \"port\" for connection option \"port\"\n",
      "\n",
      "No connection to the database.\n"
     ]
    }
   ],
   "source": [
    "# connection with db\n",
    "conn = connect_db(\"dbname\", \"user\", \"password\", \"host\", \"port\")  # fill with proper values\n",
    "\n",
    "#conn vaidation\n",
    "if conn is None: \n",
    "    print(\"No connection to the database.\")\n",
    "\n",
    "else:\n",
    "    try:\n",
    "        # orders\n",
    "        add_order_db(conn, '001', 'Buy', 20.00, 100)\n",
    "        add_order_db(conn, '002', 'Sell', 25.00, 200)\n",
    "        add_order_db(conn, '003', 'Buy', 23.00, 50)\n",
    "        add_order_db(conn, '004', 'Buy', 23.00, 70)\n",
    "        remove_order_db(conn, '003', 'Buy')\n",
    "        add_order_db(conn, '005', 'Sell', 28.00, 100)\n",
    "\n",
    "        # always remember to close the connection\n",
    "        conn.close()\n",
    "    except Exception as e:\n",
    "        print(\"Error while running orders:\", e)"
   ]
  },
  {
   "cell_type": "markdown",
   "metadata": {},
   "source": [
    "# Further improvement suggestions"
   ]
  },
  {
   "cell_type": "markdown",
   "metadata": {},
   "source": [
    "The service could be improved by being able to delete parts of an order instead of just the whole thing. The remove_orders() function in the basic implementation could check not only the key but also the quantity and reduce the quantity in the dictionary when deleting part of the order.\n",
    "\n",
    "In the database connected version, the remove_orders_db() function would also need to be modified to check the quantity in the table and perform a record update in the case of a partial delete, or delete the entire record in the case of a full delete."
   ]
  }
 ],
 "metadata": {
  "kernelspec": {
   "display_name": "Python 3",
   "language": "python",
   "name": "python3"
  },
  "language_info": {
   "codemirror_mode": {
    "name": "ipython",
    "version": 3
   },
   "file_extension": ".py",
   "mimetype": "text/x-python",
   "name": "python",
   "nbconvert_exporter": "python",
   "pygments_lexer": "ipython3",
   "version": "3.11.9"
  }
 },
 "nbformat": 4,
 "nbformat_minor": 2
}
